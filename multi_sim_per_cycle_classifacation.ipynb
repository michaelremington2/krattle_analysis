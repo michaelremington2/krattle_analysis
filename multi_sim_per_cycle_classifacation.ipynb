{
 "cells": [
  {
   "cell_type": "code",
   "execution_count": 1,
   "metadata": {},
   "outputs": [],
   "source": [
    "import pandas as pd\n",
    "import matplotlib.pyplot as plt\n",
    "import seaborn as sns \n",
    "import numpy as np\n",
    "import math\n",
    "fp_exp1 = '/home/mremington/Documents/krattle_analysis/krattle_analysis/per_cycle_analysis/owl_point_classifacation.csv'\n",
    "pc_exp1 = pd.read_csv(fp_exp1,header = 0, index_col=None)\n",
    "fp_exp2 = '/home/mremington/Documents/krattle_analysis/krattle_analysis/per_cycle_analysis/owl_point_classifacation_exp2.csv'\n",
    "pc_exp2 = pd.read_csv(fp_exp2,header = 0, index_col=None)\n",
    "fp_exp3 = '/home/mremington/Documents/krattle_analysis/krattle_analysis/per_cycle_analysis/owl_point_classifacation_exp3.csv'\n",
    "pc_exp3 = pd.read_csv(fp_exp3,header = 0, index_col=None)\n",
    "fp_exp4 = '/home/mremington/Documents/krattle_analysis/krattle_analysis/per_cycle_analysis/owl_point_classifacation_exp4.csv'\n",
    "pc_exp4 = pd.read_csv(fp_exp4,header = 0, index_col=None)\n",
    "fp_exp5 = '/home/mremington/Documents/krattle_analysis/krattle_analysis/per_cycle_analysis/owl_point_classifacation_exp5.csv'\n",
    "pc_exp5 = pd.read_csv(fp_exp5,header = 0, index_col=None)\n",
    "fp_exp6 = '/home/mremington/Documents/krattle_analysis/krattle_analysis/per_cycle_analysis/owl_point_classifacation_exp6.csv'\n",
    "pc_exp6 = pd.read_csv(fp_exp5,header = 0, index_col=None)"
   ]
  },
  {
   "cell_type": "code",
   "execution_count": 2,
   "metadata": {},
   "outputs": [],
   "source": [
    "pc=pc_exp1.append(pc_exp2)\n",
    "pc.append(pc_exp3)\n",
    "pc.append(pc_exp4)\n",
    "pc.append(pc_exp5)\n",
    "pc.append(pc_exp6)"
   ]
  },
  {
   "cell_type": "code",
   "execution_count": 7,
   "metadata": {},
   "outputs": [
    {
     "data": {
      "text/html": [
       "<div>\n",
       "<style scoped>\n",
       "    .dataframe tbody tr th:only-of-type {\n",
       "        vertical-align: middle;\n",
       "    }\n",
       "\n",
       "    .dataframe tbody tr th {\n",
       "        vertical-align: top;\n",
       "    }\n",
       "\n",
       "    .dataframe thead th {\n",
       "        text-align: right;\n",
       "    }\n",
       "</style>\n",
       "<table border=\"1\" class=\"dataframe\">\n",
       "  <thead>\n",
       "    <tr style=\"text-align: right;\">\n",
       "      <th></th>\n",
       "      <th>sim_id</th>\n",
       "      <th>org</th>\n",
       "      <th>mean_strategy_flip_time</th>\n",
       "      <th>std_strategy_flip_time</th>\n",
       "      <th>var_strategy_flip_time</th>\n",
       "    </tr>\n",
       "  </thead>\n",
       "  <tbody>\n",
       "    <tr>\n",
       "      <th>0</th>\n",
       "      <td>06028c5bc0bb4674a7d322d9ac32ed5e</td>\n",
       "      <td>krat</td>\n",
       "      <td>20.117978</td>\n",
       "      <td>15.835514</td>\n",
       "      <td>250.763507</td>\n",
       "    </tr>\n",
       "    <tr>\n",
       "      <th>1</th>\n",
       "      <td>06028c5bc0bb4674a7d322d9ac32ed5e</td>\n",
       "      <td>snake</td>\n",
       "      <td>2.793566</td>\n",
       "      <td>1.485688</td>\n",
       "      <td>2.207270</td>\n",
       "    </tr>\n",
       "    <tr>\n",
       "      <th>2</th>\n",
       "      <td>078a550708c94ad589f54acb02b8b55a</td>\n",
       "      <td>krat</td>\n",
       "      <td>19.114286</td>\n",
       "      <td>15.708524</td>\n",
       "      <td>246.757738</td>\n",
       "    </tr>\n",
       "    <tr>\n",
       "      <th>3</th>\n",
       "      <td>078a550708c94ad589f54acb02b8b55a</td>\n",
       "      <td>snake</td>\n",
       "      <td>2.673629</td>\n",
       "      <td>1.282385</td>\n",
       "      <td>1.644512</td>\n",
       "    </tr>\n",
       "    <tr>\n",
       "      <th>4</th>\n",
       "      <td>0ebf538877ac46fda69541db6a494fa0</td>\n",
       "      <td>krat</td>\n",
       "      <td>18.325269</td>\n",
       "      <td>13.519243</td>\n",
       "      <td>182.769926</td>\n",
       "    </tr>\n",
       "    <tr>\n",
       "      <th>...</th>\n",
       "      <td>...</td>\n",
       "      <td>...</td>\n",
       "      <td>...</td>\n",
       "      <td>...</td>\n",
       "      <td>...</td>\n",
       "    </tr>\n",
       "    <tr>\n",
       "      <th>98</th>\n",
       "      <td>ffe1cffcc47b497b8066b51aeac35570</td>\n",
       "      <td>krat</td>\n",
       "      <td>19.934659</td>\n",
       "      <td>15.711927</td>\n",
       "      <td>246.864664</td>\n",
       "    </tr>\n",
       "    <tr>\n",
       "      <th>99</th>\n",
       "      <td>ffe1cffcc47b497b8066b51aeac35570</td>\n",
       "      <td>snake</td>\n",
       "      <td>2.804233</td>\n",
       "      <td>1.717065</td>\n",
       "      <td>2.948311</td>\n",
       "    </tr>\n",
       "    <tr>\n",
       "      <th>0</th>\n",
       "      <td>0b27d8ca33624c9d852b18ca0d5206a1</td>\n",
       "      <td>krat</td>\n",
       "      <td>34.456140</td>\n",
       "      <td>34.730993</td>\n",
       "      <td>1206.241908</td>\n",
       "    </tr>\n",
       "    <tr>\n",
       "      <th>1</th>\n",
       "      <td>0b27d8ca33624c9d852b18ca0d5206a1</td>\n",
       "      <td>snake</td>\n",
       "      <td>2.899160</td>\n",
       "      <td>1.349542</td>\n",
       "      <td>1.821263</td>\n",
       "    </tr>\n",
       "    <tr>\n",
       "      <th>2</th>\n",
       "      <td>0b8ec0ee5e5749f99a5469da8a8f3c49</td>\n",
       "      <td>krat</td>\n",
       "      <td>31.552189</td>\n",
       "      <td>32.151953</td>\n",
       "      <td>1033.748112</td>\n",
       "    </tr>\n",
       "  </tbody>\n",
       "</table>\n",
       "<p>103 rows × 5 columns</p>\n",
       "</div>"
      ],
      "text/plain": [
       "                              sim_id    org  mean_strategy_flip_time  \\\n",
       "0   06028c5bc0bb4674a7d322d9ac32ed5e   krat                20.117978   \n",
       "1   06028c5bc0bb4674a7d322d9ac32ed5e  snake                 2.793566   \n",
       "2   078a550708c94ad589f54acb02b8b55a   krat                19.114286   \n",
       "3   078a550708c94ad589f54acb02b8b55a  snake                 2.673629   \n",
       "4   0ebf538877ac46fda69541db6a494fa0   krat                18.325269   \n",
       "..                               ...    ...                      ...   \n",
       "98  ffe1cffcc47b497b8066b51aeac35570   krat                19.934659   \n",
       "99  ffe1cffcc47b497b8066b51aeac35570  snake                 2.804233   \n",
       "0   0b27d8ca33624c9d852b18ca0d5206a1   krat                34.456140   \n",
       "1   0b27d8ca33624c9d852b18ca0d5206a1  snake                 2.899160   \n",
       "2   0b8ec0ee5e5749f99a5469da8a8f3c49   krat                31.552189   \n",
       "\n",
       "    std_strategy_flip_time  var_strategy_flip_time  \n",
       "0                15.835514              250.763507  \n",
       "1                 1.485688                2.207270  \n",
       "2                15.708524              246.757738  \n",
       "3                 1.282385                1.644512  \n",
       "4                13.519243              182.769926  \n",
       "..                     ...                     ...  \n",
       "98               15.711927              246.864664  \n",
       "99                1.717065                2.948311  \n",
       "0                34.730993             1206.241908  \n",
       "1                 1.349542                1.821263  \n",
       "2                32.151953             1033.748112  \n",
       "\n",
       "[103 rows x 5 columns]"
      ]
     },
     "execution_count": 7,
     "metadata": {},
     "output_type": "execute_result"
    }
   ],
   "source": [
    "pc.head(103)"
   ]
  },
  {
   "cell_type": "code",
   "execution_count": 3,
   "metadata": {},
   "outputs": [],
   "source": [
    "table = pd.pivot_table(pc, values='mean_strategy_flip_time', index=['sim_id'],\n",
    "                    columns=['org'], aggfunc=np.max)\n",
    "table = table.reset_index()"
   ]
  },
  {
   "cell_type": "code",
   "execution_count": 4,
   "metadata": {},
   "outputs": [
    {
     "data": {
      "text/html": [
       "<div>\n",
       "<style scoped>\n",
       "    .dataframe tbody tr th:only-of-type {\n",
       "        vertical-align: middle;\n",
       "    }\n",
       "\n",
       "    .dataframe tbody tr th {\n",
       "        vertical-align: top;\n",
       "    }\n",
       "\n",
       "    .dataframe thead th {\n",
       "        text-align: right;\n",
       "    }\n",
       "</style>\n",
       "<table border=\"1\" class=\"dataframe\">\n",
       "  <thead>\n",
       "    <tr style=\"text-align: right;\">\n",
       "      <th>org</th>\n",
       "      <th>sim_id</th>\n",
       "      <th>krat</th>\n",
       "      <th>snake</th>\n",
       "    </tr>\n",
       "  </thead>\n",
       "  <tbody>\n",
       "    <tr>\n",
       "      <th>0</th>\n",
       "      <td>06028c5bc0bb4674a7d322d9ac32ed5e</td>\n",
       "      <td>20.117978</td>\n",
       "      <td>2.793566</td>\n",
       "    </tr>\n",
       "    <tr>\n",
       "      <th>1</th>\n",
       "      <td>078a550708c94ad589f54acb02b8b55a</td>\n",
       "      <td>19.114286</td>\n",
       "      <td>2.673629</td>\n",
       "    </tr>\n",
       "    <tr>\n",
       "      <th>2</th>\n",
       "      <td>0ebf538877ac46fda69541db6a494fa0</td>\n",
       "      <td>18.325269</td>\n",
       "      <td>2.861789</td>\n",
       "    </tr>\n",
       "    <tr>\n",
       "      <th>3</th>\n",
       "      <td>0feb5c4d7e414258b999b38f2bc555b2</td>\n",
       "      <td>20.988827</td>\n",
       "      <td>2.815013</td>\n",
       "    </tr>\n",
       "    <tr>\n",
       "      <th>4</th>\n",
       "      <td>2a68b06a5ef84464b9296a73da1a347f</td>\n",
       "      <td>21.142857</td>\n",
       "      <td>2.758152</td>\n",
       "    </tr>\n",
       "  </tbody>\n",
       "</table>\n",
       "</div>"
      ],
      "text/plain": [
       "org                            sim_id       krat     snake\n",
       "0    06028c5bc0bb4674a7d322d9ac32ed5e  20.117978  2.793566\n",
       "1    078a550708c94ad589f54acb02b8b55a  19.114286  2.673629\n",
       "2    0ebf538877ac46fda69541db6a494fa0  18.325269  2.861789\n",
       "3    0feb5c4d7e414258b999b38f2bc555b2  20.988827  2.815013\n",
       "4    2a68b06a5ef84464b9296a73da1a347f  21.142857  2.758152"
      ]
     },
     "execution_count": 4,
     "metadata": {},
     "output_type": "execute_result"
    }
   ],
   "source": [
    "table.head()"
   ]
  },
  {
   "cell_type": "code",
   "execution_count": 5,
   "metadata": {},
   "outputs": [
    {
     "data": {
      "text/plain": [
       "<AxesSubplot:xlabel='org', ylabel='mean_strategy_flip_time'>"
      ]
     },
     "execution_count": 5,
     "metadata": {},
     "output_type": "execute_result"
    },
    {
     "data": {
      "image/png": "[encoded data removed]",
      "text/plain": [
       "<Figure size 432x288 with 1 Axes>"
      ]
     },
     "metadata": {
      "needs_background": "light"
     },
     "output_type": "display_data"
    }
   ],
   "source": [
    "ax = sns.violinplot(x=\"org\", y=\"mean_strategy_flip_time\", data=pc)\n",
    "ax"
   ]
  },
  {
   "cell_type": "code",
   "execution_count": 6,
   "metadata": {},
   "outputs": [
    {
     "data": {
      "text/plain": [
       "<seaborn.axisgrid.FacetGrid at 0x7fbb7709dd90>"
      ]
     },
     "execution_count": 6,
     "metadata": {},
     "output_type": "execute_result"
    },
    {
     "data": {
      "image/png": "[encoded data removed]",
      "text/plain": [
       "<Figure size 360x360 with 1 Axes>"
      ]
     },
     "metadata": {
      "needs_background": "light"
     },
     "output_type": "display_data"
    }
   ],
   "source": [
    "sns.displot(table, x=\"snake\", kind=\"kde\")"
   ]
  },
  {
   "cell_type": "code",
   "execution_count": 7,
   "metadata": {},
   "outputs": [
    {
     "data": {
      "text/plain": [
       "<seaborn.axisgrid.FacetGrid at 0x7fbb72748190>"
      ]
     },
     "execution_count": 7,
     "metadata": {},
     "output_type": "execute_result"
    },
    {
     "data": {
      "image/png": "[encoded data removed]",
      "text/plain": [
       "<Figure size 360x360 with 1 Axes>"
      ]
     },
     "metadata": {
      "needs_background": "light"
     },
     "output_type": "display_data"
    }
   ],
   "source": [
    "sns.displot(table, x=\"krat\", kind=\"kde\")"
   ]
  },
  {
   "cell_type": "code",
   "execution_count": null,
   "metadata": {},
   "outputs": [],
   "source": []
  }
 ],
 "metadata": {
  "kernelspec": {
   "display_name": "Python 3",
   "language": "python",
   "name": "python3"
  },
  "language_info": {
   "codemirror_mode": {
    "name": "ipython",
    "version": 3
   },
   "file_extension": ".py",
   "mimetype": "text/x-python",
   "name": "python",
   "nbconvert_exporter": "python",
   "pygments_lexer": "ipython3",
   "version": "3.8.5"
  }
 },
 "nbformat": 4,
 "nbformat_minor": 4
}
